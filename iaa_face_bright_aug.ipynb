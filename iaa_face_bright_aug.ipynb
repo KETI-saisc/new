{
  "nbformat": 4,
  "nbformat_minor": 0,
  "metadata": {
    "colab": {
      "provenance": [],
      "authorship_tag": "ABX9TyOjolC+HhVwjq6tBhPr/VfE",
      "include_colab_link": true
    },
    "kernelspec": {
      "name": "python3",
      "display_name": "Python 3"
    },
    "language_info": {
      "name": "python"
    }
  },
  "cells": [
    {
      "cell_type": "markdown",
      "metadata": {
        "id": "view-in-github",
        "colab_type": "text"
      },
      "source": [
        "<a href=\"https://colab.research.google.com/github/KETI-saisc/new/blob/main/iaa_face_bright_aug.ipynb\" target=\"_parent\"><img src=\"https://colab.research.google.com/assets/colab-badge.svg\" alt=\"Open In Colab\"/></a>"
      ]
    },
    {
      "cell_type": "code",
      "execution_count": 1,
      "metadata": {
        "colab": {
          "base_uri": "https://localhost:8080/"
        },
        "id": "ZY5EVJZuV-Iq",
        "outputId": "de29ef3c-9307-4b28-a1d0-7194e161458b"
      },
      "outputs": [
        {
          "output_type": "stream",
          "name": "stdout",
          "text": [
            "Mounted at /content/drive\n"
          ]
        }
      ],
      "source": [
        "from google.colab import drive\n",
        "drive.mount('/content/drive')"
      ]
    },
    {
      "cell_type": "code",
      "source": [
        "import os\n",
        "import cv2\n",
        "import imageio\n",
        "import numpy as np\n",
        "import imgaug as ia\n",
        "import imgaug.augmenters as iaa"
      ],
      "metadata": {
        "id": "qlvoQ3JQWKGG"
      },
      "execution_count": 12,
      "outputs": []
    },
    {
      "cell_type": "code",
      "source": [
        "load_dir = \"/content/drive/My Drive/Colab Notebooks/data/faces3/training/\""
      ],
      "metadata": {
        "id": "C8tNURzVWKix"
      },
      "execution_count": 13,
      "outputs": []
    },
    {
      "cell_type": "code",
      "source": [
        "img = cv2.imread(load_dir+\"s1/1.pgm\")"
      ],
      "metadata": {
        "id": "07Li0s4SW9O4"
      },
      "execution_count": 10,
      "outputs": []
    },
    {
      "cell_type": "code",
      "source": [
        "def augment(folder,file):\n",
        "    filename = folder + \"/\" + file\n",
        "    # loading in the images\n",
        "    image = imageio.imread(filename)\n",
        "\n",
        "    flip_vr=iaa.Flipud(p=1.0)\n",
        "    flip_vr_image= flip_vr.augment_image(image)\n",
        "\n",
        "    # contrast=iaa.GammaContrast((0.5, 1.5))\n",
        "    # contrast_image =contrast.augment_image(image)\n",
        "    # save_filename = folder + \"/\" + file.split(\".\")[0] + \"_gamma1.pgm\"\n",
        "    # cv2.imwrite(save_filename, contrast_image)\n",
        "\n",
        "    contrast=iaa.Multiply((0.5, 1.5))\n",
        "    contrast_image =contrast.augment_image(image)\n",
        "    save_filename = folder + \"/\" + file.split(\".\")[0] + \"_bright1.pgm\"\n",
        "    cv2.imwrite(save_filename, contrast_image)"
      ],
      "metadata": {
        "id": "eKAfBP6wYHT5"
      },
      "execution_count": 39,
      "outputs": []
    },
    {
      "cell_type": "code",
      "source": [
        "# 폴더 이름 가져오기\n",
        "face_id_list = os.listdir(load_dir)\n",
        "# print (face_id)\n",
        "\n",
        "# 파일 이름 가져오기\n",
        "\n",
        "\n",
        "for face_id in face_id_list:\n",
        "      print (load_dir + face_id)\n",
        "      face_list = os.listdir(load_dir + face_id)\n",
        "      for face in face_list:\n",
        "          print (face)\n",
        "          augment(load_dir + face_id, face)\n",
        "          #print (load_dir + face)"
      ],
      "metadata": {
        "colab": {
          "base_uri": "https://localhost:8080/"
        },
        "id": "EkX2eEe4ZV3G",
        "outputId": "5fa1b4c0-dbaa-42c5-c1d9-5b0b87ec89e4"
      },
      "execution_count": 40,
      "outputs": [
        {
          "output_type": "stream",
          "name": "stdout",
          "text": [
            "/content/drive/My Drive/Colab Notebooks/data/faces3/training/s1\n",
            "1.pgm\n",
            "3.pgm\n",
            "4.pgm\n",
            "5.pgm\n"
          ]
        },
        {
          "output_type": "stream",
          "name": "stderr",
          "text": [
            "<ipython-input-39-98e7bc6a5e35>:4: DeprecationWarning: Starting with ImageIO v3 the behavior of this function will switch to that of iio.v3.imread. To keep the current behavior (and make this warning disappear) use `import imageio.v2 as imageio` or call `imageio.v2.imread` directly.\n",
            "  image = imageio.imread(filename)\n"
          ]
        },
        {
          "output_type": "stream",
          "name": "stdout",
          "text": [
            "2.pgm\n",
            "7.pgm\n",
            "6.pgm\n",
            "10.pgm\n",
            "8.pgm\n",
            "9.pgm\n",
            "/content/drive/My Drive/Colab Notebooks/data/faces3/training/s2\n",
            "1.pgm\n",
            "4.pgm\n",
            "2.pgm\n",
            "7.pgm\n",
            "5.pgm\n",
            "3.pgm\n",
            "8.pgm\n",
            "10.pgm\n",
            "6.pgm\n",
            "9.pgm\n",
            "/content/drive/My Drive/Colab Notebooks/data/faces3/training/s3\n",
            "1.pgm\n",
            "5.pgm\n",
            "2.pgm\n",
            "3.pgm\n",
            "7.pgm\n",
            "8.pgm\n",
            "10.pgm\n",
            "4.pgm\n",
            "6.pgm\n",
            "9.pgm\n",
            "/content/drive/My Drive/Colab Notebooks/data/faces3/training/s4\n",
            "1.pgm\n",
            "2.pgm\n",
            "3.pgm\n",
            "6.pgm\n",
            "7.pgm\n",
            "9.pgm\n",
            "4.pgm\n",
            "8.pgm\n",
            "5.pgm\n",
            "10.pgm\n",
            "/content/drive/My Drive/Colab Notebooks/data/faces3/training/s5\n",
            "7.pgm\n",
            "10.pgm\n",
            "9.pgm\n",
            "1.pgm\n",
            "2.pgm\n",
            "3.pgm\n",
            "6.pgm\n",
            "8.pgm\n",
            "5.pgm\n",
            "4.pgm\n"
          ]
        }
      ]
    },
    {
      "cell_type": "code",
      "source": [],
      "metadata": {
        "id": "r0CVcB4SZxRU"
      },
      "execution_count": null,
      "outputs": []
    }
  ]
}