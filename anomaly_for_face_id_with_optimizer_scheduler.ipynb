{
  "nbformat": 4,
  "nbformat_minor": 0,
  "metadata": {
    "colab": {
      "provenance": [],
      "authorship_tag": "ABX9TyNa5CDsICgCaAsxrpgTNFPy",
      "include_colab_link": true
    },
    "kernelspec": {
      "name": "python3",
      "display_name": "Python 3"
    },
    "language_info": {
      "name": "python"
    }
  },
  "cells": [
    {
      "cell_type": "markdown",
      "metadata": {
        "id": "view-in-github",
        "colab_type": "text"
      },
      "source": [
        "<a href=\"https://colab.research.google.com/github/KETI-saisc/new/blob/main/anomaly_for_face_id_with_optimizer_scheduler.ipynb\" target=\"_parent\"><img src=\"https://colab.research.google.com/assets/colab-badge.svg\" alt=\"Open In Colab\"/></a>"
      ]
    },
    {
      "cell_type": "code",
      "execution_count": 1,
      "metadata": {
        "id": "eijxqec2Mt4K",
        "colab": {
          "base_uri": "https://localhost:8080/"
        },
        "outputId": "8dd2ece1-039e-44b3-d4e1-ac04b157493c"
      },
      "outputs": [
        {
          "output_type": "stream",
          "name": "stdout",
          "text": [
            "Python 3.9.16\n"
          ]
        }
      ],
      "source": [
        "!python -V"
      ]
    },
    {
      "cell_type": "code",
      "source": [
        "from google.colab import drive\n",
        "drive.mount('/content/drive')"
      ],
      "metadata": {
        "colab": {
          "base_uri": "https://localhost:8080/"
        },
        "id": "s9SnV_okMxKm",
        "outputId": "b416b4a9-fe0f-458d-bf76-4ecf60a66e40"
      },
      "execution_count": 2,
      "outputs": [
        {
          "output_type": "stream",
          "name": "stdout",
          "text": [
            "Mounted at /content/drive\n"
          ]
        }
      ]
    },
    {
      "cell_type": "code",
      "source": [
        "import torch\n",
        "import torch.nn as nn\n",
        "import torch.optim as optim\n",
        "import torchvision\n",
        "from torch.utils.data import DataLoader, Dataset\n",
        "import torch.optim.lr_scheduler as lr_scheduler\n",
        "import torch.nn.functional as F\n",
        "from torchvision import transforms\n",
        "import matplotlib.pyplot as plt\n",
        "from PIL import Image\n",
        "import os"
      ],
      "metadata": {
        "id": "H-8i2IfXMzvH"
      },
      "execution_count": 3,
      "outputs": []
    },
    {
      "cell_type": "code",
      "source": [
        "# Define constants\n",
        "BATCH_SIZE = 64\n",
        "EPOCHS = 200\n",
        "LEARNING_RATE = 0.001\n",
        "TRAIN_DIR = '/content/drive/MyDrive/Colab Notebooks/data/anomaly/training/'\n",
        "TEST_DIR = '/content/drive/MyDrive/Colab Notebooks/data/anomaly/testing/'\n",
        "CLASSES = ['users', 'others']\n",
        "NUM_CLASSES = len(CLASSES)"
      ],
      "metadata": {
        "id": "9eYR2k1yM8Cu"
      },
      "execution_count": 4,
      "outputs": []
    },
    {
      "cell_type": "code",
      "source": [
        "# Define dataset class\n",
        "class PGMImageDataset(Dataset):\n",
        "    def __init__(self, root_dir, transform=None):\n",
        "        self.root_dir = root_dir\n",
        "        self.transform = transform\n",
        "        self.images = []\n",
        "        self.labels = []\n",
        "        for class_index, class_name in enumerate(CLASSES):\n",
        "            class_dir = os.path.join(root_dir, class_name)\n",
        "            for filename in os.listdir(class_dir):\n",
        "                image_path = os.path.join(class_dir, filename)\n",
        "                self.images.append(image_path)\n",
        "                self.labels.append(class_index)\n",
        "    \n",
        "    def __len__(self):\n",
        "        return len(self.images)\n",
        "    \n",
        "    def __getitem__(self, index):\n",
        "        image_path = self.images[index]\n",
        "        label = self.labels[index]\n",
        "        image = Image.open(image_path)\n",
        "        if self.transform:\n",
        "            image = self.transform(image)\n",
        "        return image, label"
      ],
      "metadata": {
        "id": "x51MxJneM8aS"
      },
      "execution_count": 5,
      "outputs": []
    },
    {
      "cell_type": "code",
      "source": [
        "# Define transforms\n",
        "train_transforms = transforms.Compose([\n",
        "    transforms.Resize((100, 100)),\n",
        "    transforms.ToTensor()\n",
        "])\n",
        "test_transforms = transforms.Compose([\n",
        "    transforms.Resize((100, 100)),\n",
        "    transforms.ToTensor()\n",
        "])"
      ],
      "metadata": {
        "id": "sKbDMILLvv5h"
      },
      "execution_count": 6,
      "outputs": []
    },
    {
      "cell_type": "code",
      "source": [
        "# Create dataset and data loaders\n",
        "train_dataset = PGMImageDataset(root_dir=TRAIN_DIR, transform=train_transforms)\n",
        "test_dataset = PGMImageDataset(root_dir=TEST_DIR, transform=test_transforms)\n",
        "train_loader = DataLoader(train_dataset, batch_size=BATCH_SIZE, shuffle=True)\n",
        "test_loader = DataLoader(test_dataset, batch_size=BATCH_SIZE, shuffle=False)"
      ],
      "metadata": {
        "id": "aEz_yz72-xvP"
      },
      "execution_count": 7,
      "outputs": []
    },
    {
      "cell_type": "code",
      "source": [
        "# Define model\n",
        "class Net(nn.Module):\n",
        "    def __init__(self):\n",
        "        super(Net, self).__init__()\n",
        "        self.conv1 = nn.Conv2d(1, 16, 3, padding=1)\n",
        "        self.pool1 = nn.MaxPool2d(2, 2)\n",
        "        self.conv2 = nn.Conv2d(16, 32, 3, padding=1)\n",
        "        self.pool2 = nn.MaxPool2d(2, 2)\n",
        "        self.fc1 = nn.Linear(32 * 25 * 25, 64)\n",
        "        self.fc2 = nn.Linear(64, NUM_CLASSES)\n",
        "\n",
        "    def forward(self, x):\n",
        "        x = self.pool1(torch.relu(self.conv1(x)))\n",
        "        x = self.pool2(torch.relu(self.conv2(x)))\n",
        "        x = x.view(-1, 32 * 25 * 25)\n",
        "        x = torch.relu(self.fc1(x))\n",
        "        x = self.fc2(x)\n",
        "  \n",
        "class DeepNet(nn.Module):\n",
        "    def __init__(self):\n",
        "        super(DeepNet, self).__init__()\n",
        "        self.conv1 = nn.Conv2d(1, 32, 3, padding=1)\n",
        "        self.bn1 = nn.BatchNorm2d(32)\n",
        "        self.conv2 = nn.Conv2d(32, 64, 3, padding=1)\n",
        "        self.bn2 = nn.BatchNorm2d(64)\n",
        "        self.conv3 = nn.Conv2d(64, 128, 3, padding=1)\n",
        "        self.bn3 = nn.BatchNorm2d(128)\n",
        "        self.conv4 = nn.Conv2d(128, 256, 3, padding=1)\n",
        "        self.bn4 = nn.BatchNorm2d(256)\n",
        "        self.pool = nn.MaxPool2d(2, 2)\n",
        "        self.fc1 = nn.Linear(256 * 6 * 6, 1024)\n",
        "        self.bn5 = nn.BatchNorm1d(1024)\n",
        "        self.fc2 = nn.Linear(1024, 512)\n",
        "        self.bn6 = nn.BatchNorm1d(512)\n",
        "        self.fc3 = nn.Linear(512, 2)\n",
        "\n",
        "    def forward(self, x):\n",
        "        x = self.pool(torch.relu(self.bn1(self.conv1(x))))\n",
        "        x = self.pool(torch.relu(self.bn2(self.conv2(x))))\n",
        "        x = self.pool(torch.relu(self.bn3(self.conv3(x))))\n",
        "        x = self.pool(torch.relu(self.bn4(self.conv4(x))))\n",
        "        x = x.view(-1, 256 * 6 * 6)\n",
        "        x = torch.relu(self.bn5(self.fc1(x)))\n",
        "        x = torch.relu(self.bn6(self.fc2(x)))\n",
        "        x = self.fc3(x)\n",
        "        return x\n",
        "\n",
        "class DeepDeepNet(nn.Module):\n",
        "    def __init__(self):\n",
        "        super(DeepDeepNet, self).__init__()\n",
        "        self.conv1 = nn.Conv2d(1, 32, 3, padding=1)\n",
        "        self.bn1 = nn.BatchNorm2d(32)\n",
        "        self.conv2 = nn.Conv2d(32, 64, 3, padding=1)\n",
        "        self.bn2 = nn.BatchNorm2d(64)\n",
        "        self.conv3 = nn.Conv2d(64, 128, 3, padding=1)\n",
        "        self.bn3 = nn.BatchNorm2d(128)\n",
        "        self.conv4 = nn.Conv2d(128, 256, 3, padding=1)\n",
        "        self.bn4 = nn.BatchNorm2d(256)\n",
        "        self.pool = nn.MaxPool2d(2, 2)\n",
        "        self.fc1 = nn.Linear(256 * 6 * 6, 1024)\n",
        "        self.bn5 = nn.BatchNorm1d(1024)\n",
        "        self.fc2 = nn.Linear(1024, 512)\n",
        "        self.bn6 = nn.BatchNorm1d(512)\n",
        "        self.fc3 = nn.Linear(512, 2)\n",
        "\n",
        "    def forward(self, x):\n",
        "        batch_size = x.size(0)  # 현재 배치 크기 가져오기\n",
        "        x = self.pool(torch.relu(self.bn1(self.conv1(x))))\n",
        "        x = self.pool(torch.relu(self.bn2(self.conv2(x))))\n",
        "        x = self.pool(torch.relu(self.bn3(self.conv3(x))))\n",
        "        x = self.pool(torch.relu(self.bn4(self.conv4(x))))\n",
        "        x = x.view(batch_size, 256 * 6 * 6)\n",
        "        x = torch.relu(self.bn5(self.fc1(x)))\n",
        "        x = torch.relu(self.bn6(self.fc2(x)))\n",
        "        x = self.fc3(x)\n",
        "        return x"
      ],
      "metadata": {
        "id": "feISYUY2ToS3"
      },
      "execution_count": 8,
      "outputs": []
    },
    {
      "cell_type": "code",
      "source": [
        "# Define loss function and optimizer\n",
        "model = DeepDeepNet()\n",
        "criterion = nn.CrossEntropyLoss()\n",
        "optimizer = optim.Adam(model.parameters(), lr=LEARNING_RATE)"
      ],
      "metadata": {
        "id": "WFGYNXr7WoMP"
      },
      "execution_count": 9,
      "outputs": []
    },
    {
      "cell_type": "code",
      "source": [
        "\n",
        "\n",
        "# # # Train the model\n",
        "# # loss_list = []\n",
        "# # for epoch in range(EPOCHS):\n",
        "# #     running_loss = 0.0\n",
        "# #     for i, data in enumerate(train_loader, 0):\n",
        "# #         inputs, labels = data\n",
        "# #         optimizer.zero_grad()\n",
        "# #         outputs = model(inputs)\n",
        "# #         loss = criterion(outputs, labels)\n",
        "# #         loss.backward()\n",
        "# #         optimizer.step()\n",
        "# #         running_loss += loss.item()\n",
        "        \n",
        "# #     epoch_loss = running_loss / len(train_loader)\n",
        "# #     loss_list.append(epoch_loss)\n",
        "# #     print('[Epoch %d] loss: %.6f' % (epoch + 1, epoch_loss))\n",
        "\n",
        "    \n",
        "\n",
        "# #     if (epoch + 1) == 50:\n",
        "# #         torch.save(model.state_dict(), \"/content/drive/My Drive/Colab Notebooks/model/model_epoch\"+str(50)+\"_batch_\"+str(BATCH_SIZE)+\"_anomaly_2.pt\")\n",
        "# #     elif (epoch + 1) == 100:\n",
        "# #         torch.save(model.state_dict(), \"/content/drive/My Drive/Colab Notebooks/model/model_epoch\"+str(100)+\"_batch_\"+str(BATCH_SIZE)+\"_anomaly_2.pt\")\n",
        "# #     elif (epoch + 1) == 150:\n",
        "# #         torch.save(model.state_dict(), \"/content/drive/My Drive/Colab Notebooks/model/model_epoch\"+str(150)+\"_batch_\"+str(BATCH_SIZE)+\"_anomaly_2.pt\")\n",
        "# #     elif (epoch + 1) == 200:\n",
        "# #         torch.save(model.state_dict(), \"/content/drive/My Drive/Colab Notebooks/model/model_epoch\"+str(200)+\"_batch_\"+str(BATCH_SIZE)+\"_anomaly_2.pt\")\n",
        "# #     elif (epoch + 1) == 300:\n",
        "# #         torch.save(model.state_dict(), \"/content/drive/My Drive/Colab Notebooks/model/model_epoch\"+str(300)+\"_batch_\"+str(BATCH_SIZE)+\"_anomaly_2.pt\")\n",
        "# #     elif (epoch + 1) == 400:\n",
        "# #         torch.save(model.state_dict(), \"/content/drive/My Drive/Colab Notebooks/model/model_epoch\"+str(400)+\"_batch_\"+str(BATCH_SIZE)+\"_anomaly_2.pt\")\n",
        "\n",
        "# # # Show loss graph\n",
        "# # plt.plot(loss_list)\n",
        "# # plt.title('Training Loss')\n",
        "# # plt.xlabel('Epoch')\n",
        "# # plt.ylabel('Loss')\n",
        "# # plt.show()\n",
        "\n",
        "\n",
        "# # # Define the optimizer and scheduler\n",
        "# # optimizer = torch.optim.Adam(model.parameters(), lr=LEARNING_RATE)\n",
        "# # scheduler = lr_scheduler.ReduceLROnPlateau(optimizer, mode='min', factor=0.1, patience=5, verbose=True)\n",
        "\n",
        "# optimizer = torch.optim.SGD(model.parameters(), lr=LEARNING_RATE, momentum=0.9)\n",
        "# scheduler = torch.optim.lr_scheduler.CyclicLR(optimizer, base_lr=0.00005, \n",
        "#                                               step_size_up=5, max_lr=0.0001, \n",
        "#                                               gamma=0.5, mode='exp_range')\n",
        "\n",
        "\n",
        "\n",
        "# for epoch in range(EPOCHS):\n",
        "#     running_loss = 0.0\n",
        "    \n",
        "#     for i, data in enumerate(train_loader, 0):\n",
        "#         inputs, labels = data\n",
        "#         optimizer.zero_grad()\n",
        "#         outputs = model(inputs)\n",
        "#         loss = criterion(outputs, labels)\n",
        "#         loss.backward()\n",
        "#         optimizer.step()\n",
        "#         running_loss += loss.item()\n",
        "        \n",
        "#     epoch_loss = running_loss / len(train_loader)\n",
        "#     loss_list.append(epoch_loss)\n",
        "#     print('[Epoch %d] loss: %.6f' % (epoch + 1, epoch_loss))\n",
        "    \n",
        "#     # Check if the current model has the best validation loss so far\n",
        "#     with torch.no_grad():\n",
        "#         val_loss = 0.0\n",
        "#         for i, data in enumerate(train_loader, 0):\n",
        "#             inputs, labels = data\n",
        "#             outputs = model(inputs)\n",
        "#             val_loss += criterion(outputs, labels).item()\n",
        "\n",
        "#         val_loss /= len(train_loader)\n",
        "#         if val_loss < best_loss:\n",
        "#             best_loss = val_loss\n",
        "#             filename = \"/content/drive/My Drive/Colab Notebooks/model/model_epoch\"+str(epoch + 1)+\"_batch_\"+str(BATCH_SIZE)+\"_anomaly_3.pt\"\n",
        "#             torch.save(model.state_dict(), filename)\n",
        "#             print('Best model saved at epoch %d with validation loss: %.6f' % (epoch + 1, val_loss))\n",
        "\n",
        "#         # if (epoch + 1) == 50:\n",
        "#         #     torch.save(model.state_dict(), \"/content/drive/My Drive/Colab Notebooks/model/model_epoch\"+str(50)+\"_batch_\"+str(BATCH_SIZE)+\"_anomaly_3_forcedsave.pt\")\n",
        "#         # elif (epoch + 1) == 100:\n",
        "#         #     torch.save(model.state_dict(), \"/content/drive/My Drive/Colab Notebooks/model/model_epoch\"+str(100)+\"_batch_\"+str(BATCH_SIZE)+\"_anomaly_3_forcedsave.pt\")\n",
        "#         # elif (epoch + 1) == 150:\n",
        "#         #     torch.save(model.state_dict(), \"/content/drive/My Drive/Colab Notebooks/model/model_epoch\"+str(150)+\"_batch_\"+str(BATCH_SIZE)+\"_anomaly_3_forcedsave.pt\")\n",
        "#         # elif (epoch + 1) == 200:\n",
        "#         #     torch.save(model.state_dict(), \"/content/drive/My Drive/Colab Notebooks/model/model_epoch\"+str(200)+\"_batch_\"+str(BATCH_SIZE)+\"_anomaly_3_forcedsave.pt\")\n",
        "            \n",
        "#     # Adjust the learning rate if the validation loss plateaus\n",
        "#     scheduler.step(epoch_loss)\n",
        "\n",
        "# # Show loss graph\n",
        "# plt.plot(loss_list)\n",
        "# plt.title('Training Loss')\n",
        "# plt.xlabel('Epoch')\n",
        "# plt.ylabel('Loss')\n",
        "# plt.show()\n",
        "\n",
        "optimizer = torch.optim.SGD(model.parameters(), lr=LEARNING_RATE, momentum=0.8)\n",
        "# scheduler = torch.optim.lr_scheduler.CyclicLR(optimizer, base_lr=0.00005, \n",
        "#                                               step_size_up=5, max_lr=0.0001, \n",
        "#                                               gamma=0.5, mode='exp_range')\n",
        "scheduler = torch.optim.lr_scheduler.StepLR(optimizer, step_size=50, gamma=0.5)\n",
        "\n",
        "# Train the model\n",
        "loss_list = []\n",
        "best_loss = float('inf')\n",
        "for epoch in range(EPOCHS):\n",
        "    running_loss = 0.0\n",
        "    for i, data in enumerate(train_loader, 0):\n",
        "        inputs, labels = data\n",
        "        optimizer.zero_grad()\n",
        "        outputs = model(inputs)\n",
        "        loss = criterion(outputs, labels)\n",
        "        loss.backward()\n",
        "        optimizer.step()\n",
        "        running_loss += loss.item()\n",
        " \n",
        "    epoch_loss = running_loss / len(train_loader)\n",
        "    loss_list.append(epoch_loss)\n",
        "    if (epoch+1) > 20:\n",
        "        if epoch_loss < best_loss - 0.0001:\n",
        "            best_loss = epoch_loss\n",
        "            filename = \"/content/drive/My Drive/Colab Notebooks/model/model_epoch\"+str(epoch+1)+\"_batch_\"+str(BATCH_SIZE)+\"_anomaly_5.pt\"\n",
        "            torch.save(model.state_dict(), filename)\n",
        "            print('Best model saved at epoch %d with loss: %.6f' % (epoch + 1, epoch_loss))\n",
        "\n",
        "        print('[Epoch %d] loss: %.6f' % (epoch + 1, epoch_loss))\n",
        "\n",
        "\n",
        "    if (epoch + 1) == 20:\n",
        "        torch.save(model.state_dict(), \"/content/drive/My Drive/Colab Notebooks/model/model_epoch\"+str(20)+\"_batch_\"+str(BATCH_SIZE)+\"_anomaly_55.pt\")\n",
        "    if (epoch + 1) == 30:\n",
        "        torch.save(model.state_dict(), \"/content/drive/My Drive/Colab Notebooks/model/model_epoch\"+str(30)+\"_batch_\"+str(BATCH_SIZE)+\"_anomaly_55.pt\")\n",
        "    if (epoch + 1) == 50:\n",
        "        torch.save(model.state_dict(), \"/content/drive/My Drive/Colab Notebooks/model/model_epoch\"+str(50)+\"_batch_\"+str(BATCH_SIZE)+\"_anomaly_55.pt\")\n",
        "    elif (epoch + 1) == 100:\n",
        "        torch.save(model.state_dict(), \"/content/drive/My Drive/Colab Notebooks/model/model_epoch\"+str(100)+\"_batch_\"+str(BATCH_SIZE)+\"_anomaly_55.pt\")\n",
        "    elif (epoch + 1) == 150:\n",
        "        torch.save(model.state_dict(), \"/content/drive/My Drive/Colab Notebooks/model/model_epoch\"+str(150)+\"_batch_\"+str(BATCH_SIZE)+\"_anomaly_55.pt\")\n",
        "    elif (epoch + 1) == 200:\n",
        "        torch.save(model.state_dict(), \"/content/drive/My Drive/Colab Notebooks/model/model_epoch\"+str(200)+\"_batch_\"+str(BATCH_SIZE)+\"_anomaly_55.pt\")\n",
        "\n",
        "    \n",
        "\n",
        "# Show loss graph\n",
        "plt.plot(loss_list)\n",
        "plt.title('Training Loss')\n",
        "plt.xlabel('Epoch')\n",
        "plt.ylabel('Loss')\n",
        "plt.show()"
      ],
      "metadata": {
        "id": "xxdZ7Qk1M5pA",
        "colab": {
          "base_uri": "https://localhost:8080/",
          "height": 1000
        },
        "outputId": "4f63c23f-501d-4b65-968d-e5970f7c2cc2"
      },
      "execution_count": 10,
      "outputs": [
        {
          "output_type": "stream",
          "name": "stdout",
          "text": [
            "Best model saved at epoch 21 with loss: 0.007572\n",
            "[Epoch 21] loss: 0.007572\n",
            "Best model saved at epoch 22 with loss: 0.006796\n",
            "[Epoch 22] loss: 0.006796\n",
            "Best model saved at epoch 23 with loss: 0.005620\n",
            "[Epoch 23] loss: 0.005620\n",
            "[Epoch 24] loss: 0.012329\n",
            "[Epoch 25] loss: 0.009110\n",
            "Best model saved at epoch 26 with loss: 0.005196\n",
            "[Epoch 26] loss: 0.005196\n",
            "Best model saved at epoch 27 with loss: 0.004609\n",
            "[Epoch 27] loss: 0.004609\n",
            "[Epoch 28] loss: 0.005697\n",
            "[Epoch 29] loss: 0.004822\n",
            "[Epoch 30] loss: 0.004978\n",
            "[Epoch 31] loss: 0.004784\n",
            "Best model saved at epoch 32 with loss: 0.004107\n",
            "[Epoch 32] loss: 0.004107\n",
            "[Epoch 33] loss: 0.004129\n",
            "[Epoch 34] loss: 0.004611\n",
            "[Epoch 35] loss: 0.004833\n",
            "Best model saved at epoch 36 with loss: 0.003651\n",
            "[Epoch 36] loss: 0.003651\n",
            "[Epoch 37] loss: 0.003962\n",
            "Best model saved at epoch 38 with loss: 0.002961\n",
            "[Epoch 38] loss: 0.002961\n",
            "[Epoch 39] loss: 0.003513\n",
            "Best model saved at epoch 40 with loss: 0.002798\n",
            "[Epoch 40] loss: 0.002798\n",
            "[Epoch 41] loss: 0.004014\n",
            "[Epoch 42] loss: 0.003039\n",
            "Best model saved at epoch 43 with loss: 0.002428\n",
            "[Epoch 43] loss: 0.002428\n",
            "[Epoch 44] loss: 0.002347\n",
            "[Epoch 45] loss: 0.003470\n",
            "[Epoch 46] loss: 0.019367\n",
            "[Epoch 47] loss: 0.005641\n",
            "[Epoch 48] loss: 0.005020\n",
            "[Epoch 49] loss: 0.005537\n",
            "[Epoch 50] loss: 0.005305\n",
            "[Epoch 51] loss: 0.004111\n",
            "[Epoch 52] loss: 0.004734\n",
            "[Epoch 53] loss: 0.002773\n",
            "[Epoch 54] loss: 0.002757\n",
            "[Epoch 55] loss: 0.003512\n",
            "[Epoch 56] loss: 0.002377\n",
            "[Epoch 57] loss: 0.002636\n",
            "Best model saved at epoch 58 with loss: 0.001898\n",
            "[Epoch 58] loss: 0.001898\n",
            "[Epoch 59] loss: 0.005320\n",
            "[Epoch 60] loss: 0.002658\n",
            "[Epoch 61] loss: 0.002345\n",
            "[Epoch 62] loss: 0.002099\n",
            "[Epoch 63] loss: 0.001827\n",
            "[Epoch 64] loss: 0.002151\n",
            "[Epoch 65] loss: 0.002041\n",
            "Best model saved at epoch 66 with loss: 0.001745\n",
            "[Epoch 66] loss: 0.001745\n",
            "[Epoch 67] loss: 0.001905\n",
            "[Epoch 68] loss: 0.003848\n",
            "Best model saved at epoch 69 with loss: 0.001573\n",
            "[Epoch 69] loss: 0.001573\n",
            "[Epoch 70] loss: 0.001697\n",
            "[Epoch 71] loss: 0.002591\n",
            "[Epoch 72] loss: 0.001954\n",
            "[Epoch 73] loss: 0.002097\n",
            "[Epoch 74] loss: 0.001599\n",
            "[Epoch 75] loss: 0.002990\n",
            "[Epoch 76] loss: 0.002182\n",
            "[Epoch 77] loss: 0.001557\n",
            "[Epoch 78] loss: 0.001636\n",
            "[Epoch 79] loss: 0.001487\n",
            "[Epoch 80] loss: 0.001513\n",
            "[Epoch 81] loss: 0.001610\n",
            "Best model saved at epoch 82 with loss: 0.001352\n",
            "[Epoch 82] loss: 0.001352\n",
            "[Epoch 83] loss: 0.002098\n",
            "[Epoch 84] loss: 0.001371\n",
            "[Epoch 85] loss: 0.001260\n",
            "[Epoch 86] loss: 0.001648\n",
            "[Epoch 87] loss: 0.001347\n",
            "Best model saved at epoch 88 with loss: 0.001250\n",
            "[Epoch 88] loss: 0.001250\n",
            "[Epoch 89] loss: 0.001162\n",
            "[Epoch 90] loss: 0.001306\n",
            "[Epoch 91] loss: 0.001180\n",
            "[Epoch 92] loss: 0.001384\n",
            "[Epoch 93] loss: 0.002351\n",
            "[Epoch 94] loss: 0.001240\n",
            "[Epoch 95] loss: 0.001195\n",
            "[Epoch 96] loss: 0.001219\n",
            "Best model saved at epoch 97 with loss: 0.001094\n",
            "[Epoch 97] loss: 0.001094\n",
            "[Epoch 98] loss: 0.001058\n",
            "[Epoch 99] loss: 0.001131\n",
            "[Epoch 100] loss: 0.001065\n",
            "[Epoch 101] loss: 0.001202\n",
            "[Epoch 102] loss: 0.001177\n",
            "[Epoch 103] loss: 0.001262\n",
            "[Epoch 104] loss: 0.000995\n",
            "[Epoch 105] loss: 0.001224\n",
            "[Epoch 106] loss: 0.001202\n",
            "[Epoch 107] loss: 0.001074\n",
            "[Epoch 108] loss: 0.001270\n",
            "[Epoch 109] loss: 0.001307\n",
            "Best model saved at epoch 110 with loss: 0.000951\n",
            "[Epoch 110] loss: 0.000951\n",
            "[Epoch 111] loss: 0.001006\n",
            "[Epoch 112] loss: 0.002384\n",
            "[Epoch 113] loss: 0.001330\n",
            "[Epoch 114] loss: 0.002114\n",
            "[Epoch 115] loss: 0.002174\n",
            "[Epoch 116] loss: 0.000927\n",
            "[Epoch 117] loss: 0.001030\n",
            "[Epoch 118] loss: 0.001333\n",
            "Best model saved at epoch 119 with loss: 0.000822\n",
            "[Epoch 119] loss: 0.000822\n",
            "[Epoch 120] loss: 0.001133\n",
            "[Epoch 121] loss: 0.000835\n",
            "[Epoch 122] loss: 0.001090\n",
            "[Epoch 123] loss: 0.000841\n",
            "[Epoch 124] loss: 0.001057\n",
            "[Epoch 125] loss: 0.001152\n",
            "[Epoch 126] loss: 0.000880\n",
            "[Epoch 127] loss: 0.001026\n",
            "[Epoch 128] loss: 0.000795\n",
            "[Epoch 129] loss: 0.000761\n",
            "[Epoch 130] loss: 0.000778\n",
            "Best model saved at epoch 131 with loss: 0.000693\n",
            "[Epoch 131] loss: 0.000693\n",
            "[Epoch 132] loss: 0.001249\n",
            "[Epoch 133] loss: 0.000821\n",
            "[Epoch 134] loss: 0.000822\n",
            "[Epoch 135] loss: 0.000937\n",
            "[Epoch 136] loss: 0.001443\n",
            "[Epoch 137] loss: 0.000880\n",
            "[Epoch 138] loss: 0.000722\n",
            "[Epoch 139] loss: 0.000701\n",
            "[Epoch 140] loss: 0.000714\n",
            "[Epoch 141] loss: 0.000668\n",
            "[Epoch 142] loss: 0.000710\n",
            "[Epoch 143] loss: 0.001084\n",
            "[Epoch 144] loss: 0.001730\n",
            "[Epoch 145] loss: 0.001751\n",
            "[Epoch 146] loss: 0.000690\n",
            "[Epoch 147] loss: 0.001095\n",
            "[Epoch 148] loss: 0.000754\n",
            "[Epoch 149] loss: 0.000703\n",
            "[Epoch 150] loss: 0.000652\n",
            "[Epoch 151] loss: 0.000857\n",
            "Best model saved at epoch 152 with loss: 0.000575\n",
            "[Epoch 152] loss: 0.000575\n",
            "[Epoch 153] loss: 0.001308\n",
            "[Epoch 154] loss: 0.000665\n",
            "[Epoch 155] loss: 0.000579\n",
            "[Epoch 156] loss: 0.000644\n",
            "[Epoch 157] loss: 0.001049\n",
            "[Epoch 158] loss: 0.000838\n",
            "[Epoch 159] loss: 0.000767\n",
            "[Epoch 160] loss: 0.000617\n",
            "[Epoch 161] loss: 0.000697\n",
            "[Epoch 162] loss: 0.001597\n",
            "[Epoch 163] loss: 0.000729\n",
            "[Epoch 164] loss: 0.000642\n",
            "[Epoch 165] loss: 0.001083\n",
            "[Epoch 166] loss: 0.000557\n",
            "[Epoch 167] loss: 0.000657\n",
            "[Epoch 168] loss: 0.000572\n",
            "[Epoch 169] loss: 0.000580\n",
            "[Epoch 170] loss: 0.000674\n",
            "[Epoch 171] loss: 0.000710\n",
            "[Epoch 172] loss: 0.000782\n",
            "[Epoch 173] loss: 0.001933\n",
            "[Epoch 174] loss: 0.000522\n",
            "[Epoch 175] loss: 0.000689\n",
            "[Epoch 176] loss: 0.000857\n",
            "[Epoch 177] loss: 0.000595\n",
            "[Epoch 178] loss: 0.000974\n",
            "[Epoch 179] loss: 0.000586\n",
            "[Epoch 180] loss: 0.000529\n",
            "[Epoch 181] loss: 0.000664\n",
            "[Epoch 182] loss: 0.000594\n",
            "[Epoch 183] loss: 0.000563\n",
            "[Epoch 184] loss: 0.000516\n",
            "[Epoch 185] loss: 0.000713\n",
            "[Epoch 186] loss: 0.000483\n",
            "[Epoch 187] loss: 0.001628\n",
            "[Epoch 188] loss: 0.000483\n",
            "[Epoch 189] loss: 0.000498\n",
            "[Epoch 190] loss: 0.001736\n",
            "[Epoch 191] loss: 0.000544\n",
            "[Epoch 192] loss: 0.000854\n",
            "[Epoch 193] loss: 0.001207\n",
            "[Epoch 194] loss: 0.000571\n",
            "[Epoch 195] loss: 0.000606\n",
            "[Epoch 196] loss: 0.000950\n",
            "[Epoch 197] loss: 0.000734\n",
            "Best model saved at epoch 198 with loss: 0.000437\n",
            "[Epoch 198] loss: 0.000437\n",
            "[Epoch 199] loss: 0.000497\n",
            "[Epoch 200] loss: 0.000531\n"
          ]
        },
        {
          "output_type": "display_data",
          "data": {
            "text/plain": [
              "<Figure size 640x480 with 1 Axes>"
            ],
            "image/png": "[encoded data removed]"
          },
          "metadata": {}
        }
      ]
    },
    {
      "cell_type": "code",
      "source": [
        "correct = 0\n",
        "total = 0\n",
        "predicted = []\n",
        "\n",
        "with torch.no_grad():\n",
        "    for data in test_loader:\n",
        "        images, labels = data\n",
        "        outputs = model(images)\n",
        "        _, batch_predicted = torch.max(outputs.data, 1)\n",
        "        predicted += batch_predicted.tolist()\n",
        "        total += labels.size(0)\n",
        "        correct += (batch_predicted == labels).sum().item()\n",
        "\n",
        "accuracy = 100 * correct / total\n",
        "print('Accuracy on test set: {:.2f}%'.format(accuracy))"
      ],
      "metadata": {
        "colab": {
          "base_uri": "https://localhost:8080/"
        },
        "id": "oxp1U_LdNSeC",
        "outputId": "38ee7c72-8d0d-419c-d94f-2d281b402963"
      },
      "execution_count": 11,
      "outputs": [
        {
          "output_type": "stream",
          "name": "stdout",
          "text": [
            "Accuracy on test set: 92.00%\n"
          ]
        }
      ]
    },
    {
      "cell_type": "code",
      "source": [
        "torch.save(model.state_dict(), \"/content/drive/My Drive/Colab Notebooks/model/model_epoch\"+str(EPOCHS)+\"_batch_\"+str(BATCH_SIZE)+\"_anomaly.pt\")"
      ],
      "metadata": {
        "id": "XDNnStzEAGAV"
      },
      "execution_count": 12,
      "outputs": []
    },
    {
      "cell_type": "code",
      "source": [
        "device = torch.device('cpu')\n",
        "# model.load_state_dict(torch.load(\"/content/drive/My Drive/Colab Notebooks/model/model_epoch\"+str(EPOCHS)+\"_batch_\"+str(BATCH_SIZE)+\"_anomaly.pt\", map_location=device))\n",
        "model.load_state_dict(torch.load('/content/drive/My Drive/Colab Notebooks/model/model_epoch21_batch_32_anomaly_2.pt', map_location=device))\n",
        "model.eval()"
      ],
      "metadata": {
        "id": "XHp810U4Oxs4",
        "colab": {
          "base_uri": "https://localhost:8080/"
        },
        "outputId": "4b33200a-8ec0-4a02-9210-b23ec44d065f"
      },
      "execution_count": 13,
      "outputs": [
        {
          "output_type": "execute_result",
          "data": {
            "text/plain": [
              "DeepDeepNet(\n",
              "  (conv1): Conv2d(1, 32, kernel_size=(3, 3), stride=(1, 1), padding=(1, 1))\n",
              "  (bn1): BatchNorm2d(32, eps=1e-05, momentum=0.1, affine=True, track_running_stats=True)\n",
              "  (conv2): Conv2d(32, 64, kernel_size=(3, 3), stride=(1, 1), padding=(1, 1))\n",
              "  (bn2): BatchNorm2d(64, eps=1e-05, momentum=0.1, affine=True, track_running_stats=True)\n",
              "  (conv3): Conv2d(64, 128, kernel_size=(3, 3), stride=(1, 1), padding=(1, 1))\n",
              "  (bn3): BatchNorm2d(128, eps=1e-05, momentum=0.1, affine=True, track_running_stats=True)\n",
              "  (conv4): Conv2d(128, 256, kernel_size=(3, 3), stride=(1, 1), padding=(1, 1))\n",
              "  (bn4): BatchNorm2d(256, eps=1e-05, momentum=0.1, affine=True, track_running_stats=True)\n",
              "  (pool): MaxPool2d(kernel_size=2, stride=2, padding=0, dilation=1, ceil_mode=False)\n",
              "  (fc1): Linear(in_features=9216, out_features=1024, bias=True)\n",
              "  (bn5): BatchNorm1d(1024, eps=1e-05, momentum=0.1, affine=True, track_running_stats=True)\n",
              "  (fc2): Linear(in_features=1024, out_features=512, bias=True)\n",
              "  (bn6): BatchNorm1d(512, eps=1e-05, momentum=0.1, affine=True, track_running_stats=True)\n",
              "  (fc3): Linear(in_features=512, out_features=2, bias=True)\n",
              ")"
            ]
          },
          "metadata": {},
          "execution_count": 13
        }
      ]
    },
    {
      "cell_type": "code",
      "source": [
        "# Set model to evaluation mode\n",
        "model.eval()\n",
        "\n",
        "# Iterate over test dataset and compare predictions with labels\n",
        "for i, data in enumerate(test_loader, 0):\n",
        "    inputs, labels = data\n",
        "    outputs = model(inputs)\n",
        "    _, predicted = torch.max(outputs.data, 1)\n",
        "    for j in range(len(inputs)):\n",
        "print('Image %d: Predicted %s, Actual %s' % (i*len(inputs)+j, CLASSES[predicted[j]], CLASSES[labels[j]]))"
      ],
      "metadata": {
        "colab": {
          "base_uri": "https://localhost:8080/",
          "height": 137
        },
        "id": "8l4omsDBYlWV",
        "outputId": "92a52fef-b092-41b9-b58e-af59893065d2"
      },
      "execution_count": 14,
      "outputs": [
        {
          "output_type": "error",
          "ename": "IndentationError",
          "evalue": "ignored",
          "traceback": [
            "\u001b[0;36m  File \u001b[0;32m\"<ipython-input-14-3d592031e7a4>\"\u001b[0;36m, line \u001b[0;32m10\u001b[0m\n\u001b[0;31m    print('Image %d: Predicted %s, Actual %s' % (i*len(inputs)+j, CLASSES[predicted[j]], CLASSES[labels[j]]))\u001b[0m\n\u001b[0m                                                                                                             ^\u001b[0m\n\u001b[0;31mIndentationError\u001b[0m\u001b[0;31m:\u001b[0m expected an indented block\n"
          ]
        }
      ]
    },
    {
      "cell_type": "code",
      "source": [],
      "metadata": {
        "id": "hITbBzyWxsZh"
      },
      "execution_count": null,
      "outputs": []
    },
    {
      "cell_type": "code",
      "source": [
        "model.eval()\n",
        "# test_data = \"/content/drive/MyDrive/Colab Notebooks/data/test/s0/1.1.pgm\"\n",
        "DataLoader(test_dataset, batch_size=BATCH_SIZE, shuffle=False)\n",
        "# Iterate over test dataset and compare predictions with labels\n",
        "for i, data in enumerate(test_loader, 0):\n",
        "    inputs, labels = data\n",
        "    outputs = model(inputs)\n",
        "    _, predicted = torch.max(outputs.data, 1)\n",
        "    for j in range(len(inputs)):\n",
        "        print('Image %d: Predicted %s, Actual %s' % (i*len(inputs)+j, CLASSES[predicted[j]], CLASSES[labels[j]]))"
      ],
      "metadata": {
        "id": "MEmIfvP3_eqh"
      },
      "execution_count": null,
      "outputs": []
    },
    {
      "cell_type": "code",
      "source": [],
      "metadata": {
        "id": "C3JfD37axtwW"
      },
      "execution_count": null,
      "outputs": []
    }
  ]
}